{
 "cells": [
  {
   "cell_type": "code",
   "execution_count": 1,
   "id": "797c7b8a",
   "metadata": {
    "_cell_guid": "b1076dfc-b9ad-4769-8c92-a6c4dae69d19",
    "_uuid": "8f2839f25d086af736a60e9eeb907d3b93b6e0e5",
    "execution": {
     "iopub.execute_input": "2023-03-03T14:36:43.186577Z",
     "iopub.status.busy": "2023-03-03T14:36:43.186136Z",
     "iopub.status.idle": "2023-03-03T14:36:49.880711Z",
     "shell.execute_reply": "2023-03-03T14:36:49.879593Z"
    },
    "papermill": {
     "duration": 6.705412,
     "end_time": "2023-03-03T14:36:49.883427",
     "exception": false,
     "start_time": "2023-03-03T14:36:43.178015",
     "status": "completed"
    },
    "tags": []
   },
   "outputs": [],
   "source": [
    "import numpy as np\n",
    "import pandas as pd\n",
    "import tensorflow as tf\n",
    "import os\n",
    "for dirname, _, filenames in os.walk('/kaggle/input'):\n",
    "    for filename in filenames:\n",
    "        print(os.path.join(dirname, filename))"
   ]
  },
  {
   "cell_type": "markdown",
   "id": "03b7a596",
   "metadata": {
    "papermill": {
     "duration": 0.005211,
     "end_time": "2023-03-03T14:36:49.894490",
     "exception": false,
     "start_time": "2023-03-03T14:36:49.889279",
     "status": "completed"
    },
    "tags": []
   },
   "source": [
    "# Importing Files\n",
    "This weather data is a build-in keras dataset of atmospheric information collected from 2009 to 2016."
   ]
  },
  {
   "cell_type": "code",
   "execution_count": 2,
   "id": "d1ba5d85",
   "metadata": {
    "execution": {
     "iopub.execute_input": "2023-03-03T14:36:49.907205Z",
     "iopub.status.busy": "2023-03-03T14:36:49.906127Z",
     "iopub.status.idle": "2023-03-03T14:36:51.542577Z",
     "shell.execute_reply": "2023-03-03T14:36:51.541570Z"
    },
    "papermill": {
     "duration": 1.645533,
     "end_time": "2023-03-03T14:36:51.545294",
     "exception": false,
     "start_time": "2023-03-03T14:36:49.899761",
     "status": "completed"
    },
    "tags": []
   },
   "outputs": [
    {
     "name": "stdout",
     "output_type": "stream",
     "text": [
      "Downloading data from https://storage.googleapis.com/tensorflow/tf-keras-datasets/jena_climate_2009_2016.csv.zip\n",
      "13568290/13568290 [==============================] - 1s 0us/step\n"
     ]
    }
   ],
   "source": [
    "zip_path = tf.keras.utils.get_file(\n",
    "    origin='https://storage.googleapis.com/tensorflow/tf-keras-datasets/jena_climate_2009_2016.csv.zip',\n",
    "    fname='jena_climate_2009_2016.csv.zip',\n",
    "    extract=True)\n",
    "csv_path, _ = os.path.splitext(zip_path)"
   ]
  },
  {
   "cell_type": "code",
   "execution_count": 3,
   "id": "d0bc6097",
   "metadata": {
    "execution": {
     "iopub.execute_input": "2023-03-03T14:36:51.559721Z",
     "iopub.status.busy": "2023-03-03T14:36:51.559421Z",
     "iopub.status.idle": "2023-03-03T14:36:52.167413Z",
     "shell.execute_reply": "2023-03-03T14:36:52.166331Z"
    },
    "papermill": {
     "duration": 0.617693,
     "end_time": "2023-03-03T14:36:52.169582",
     "exception": false,
     "start_time": "2023-03-03T14:36:51.551889",
     "status": "completed"
    },
    "tags": []
   },
   "outputs": [
    {
     "data": {
      "text/html": [
       "<div>\n",
       "<style scoped>\n",
       "    .dataframe tbody tr th:only-of-type {\n",
       "        vertical-align: middle;\n",
       "    }\n",
       "\n",
       "    .dataframe tbody tr th {\n",
       "        vertical-align: top;\n",
       "    }\n",
       "\n",
       "    .dataframe thead th {\n",
       "        text-align: right;\n",
       "    }\n",
       "</style>\n",
       "<table border=\"1\" class=\"dataframe\">\n",
       "  <thead>\n",
       "    <tr style=\"text-align: right;\">\n",
       "      <th></th>\n",
       "      <th>Date Time</th>\n",
       "      <th>p (mbar)</th>\n",
       "      <th>T (degC)</th>\n",
       "      <th>Tpot (K)</th>\n",
       "      <th>Tdew (degC)</th>\n",
       "      <th>rh (%)</th>\n",
       "      <th>VPmax (mbar)</th>\n",
       "      <th>VPact (mbar)</th>\n",
       "      <th>VPdef (mbar)</th>\n",
       "      <th>sh (g/kg)</th>\n",
       "      <th>H2OC (mmol/mol)</th>\n",
       "      <th>rho (g/m**3)</th>\n",
       "      <th>wv (m/s)</th>\n",
       "      <th>max. wv (m/s)</th>\n",
       "      <th>wd (deg)</th>\n",
       "    </tr>\n",
       "  </thead>\n",
       "  <tbody>\n",
       "    <tr>\n",
       "      <th>0</th>\n",
       "      <td>01.01.2009 00:10:00</td>\n",
       "      <td>996.52</td>\n",
       "      <td>-8.02</td>\n",
       "      <td>265.40</td>\n",
       "      <td>-8.90</td>\n",
       "      <td>93.3</td>\n",
       "      <td>3.33</td>\n",
       "      <td>3.11</td>\n",
       "      <td>0.22</td>\n",
       "      <td>1.94</td>\n",
       "      <td>3.12</td>\n",
       "      <td>1307.75</td>\n",
       "      <td>1.03</td>\n",
       "      <td>1.75</td>\n",
       "      <td>152.3</td>\n",
       "    </tr>\n",
       "    <tr>\n",
       "      <th>1</th>\n",
       "      <td>01.01.2009 00:20:00</td>\n",
       "      <td>996.57</td>\n",
       "      <td>-8.41</td>\n",
       "      <td>265.01</td>\n",
       "      <td>-9.28</td>\n",
       "      <td>93.4</td>\n",
       "      <td>3.23</td>\n",
       "      <td>3.02</td>\n",
       "      <td>0.21</td>\n",
       "      <td>1.89</td>\n",
       "      <td>3.03</td>\n",
       "      <td>1309.80</td>\n",
       "      <td>0.72</td>\n",
       "      <td>1.50</td>\n",
       "      <td>136.1</td>\n",
       "    </tr>\n",
       "    <tr>\n",
       "      <th>2</th>\n",
       "      <td>01.01.2009 00:30:00</td>\n",
       "      <td>996.53</td>\n",
       "      <td>-8.51</td>\n",
       "      <td>264.91</td>\n",
       "      <td>-9.31</td>\n",
       "      <td>93.9</td>\n",
       "      <td>3.21</td>\n",
       "      <td>3.01</td>\n",
       "      <td>0.20</td>\n",
       "      <td>1.88</td>\n",
       "      <td>3.02</td>\n",
       "      <td>1310.24</td>\n",
       "      <td>0.19</td>\n",
       "      <td>0.63</td>\n",
       "      <td>171.6</td>\n",
       "    </tr>\n",
       "    <tr>\n",
       "      <th>3</th>\n",
       "      <td>01.01.2009 00:40:00</td>\n",
       "      <td>996.51</td>\n",
       "      <td>-8.31</td>\n",
       "      <td>265.12</td>\n",
       "      <td>-9.07</td>\n",
       "      <td>94.2</td>\n",
       "      <td>3.26</td>\n",
       "      <td>3.07</td>\n",
       "      <td>0.19</td>\n",
       "      <td>1.92</td>\n",
       "      <td>3.08</td>\n",
       "      <td>1309.19</td>\n",
       "      <td>0.34</td>\n",
       "      <td>0.50</td>\n",
       "      <td>198.0</td>\n",
       "    </tr>\n",
       "    <tr>\n",
       "      <th>4</th>\n",
       "      <td>01.01.2009 00:50:00</td>\n",
       "      <td>996.51</td>\n",
       "      <td>-8.27</td>\n",
       "      <td>265.15</td>\n",
       "      <td>-9.04</td>\n",
       "      <td>94.1</td>\n",
       "      <td>3.27</td>\n",
       "      <td>3.08</td>\n",
       "      <td>0.19</td>\n",
       "      <td>1.92</td>\n",
       "      <td>3.09</td>\n",
       "      <td>1309.00</td>\n",
       "      <td>0.32</td>\n",
       "      <td>0.63</td>\n",
       "      <td>214.3</td>\n",
       "    </tr>\n",
       "  </tbody>\n",
       "</table>\n",
       "</div>"
      ],
      "text/plain": [
       "             Date Time  p (mbar)  T (degC)  Tpot (K)  Tdew (degC)  rh (%)  \\\n",
       "0  01.01.2009 00:10:00    996.52     -8.02    265.40        -8.90    93.3   \n",
       "1  01.01.2009 00:20:00    996.57     -8.41    265.01        -9.28    93.4   \n",
       "2  01.01.2009 00:30:00    996.53     -8.51    264.91        -9.31    93.9   \n",
       "3  01.01.2009 00:40:00    996.51     -8.31    265.12        -9.07    94.2   \n",
       "4  01.01.2009 00:50:00    996.51     -8.27    265.15        -9.04    94.1   \n",
       "\n",
       "   VPmax (mbar)  VPact (mbar)  VPdef (mbar)  sh (g/kg)  H2OC (mmol/mol)  \\\n",
       "0          3.33          3.11          0.22       1.94             3.12   \n",
       "1          3.23          3.02          0.21       1.89             3.03   \n",
       "2          3.21          3.01          0.20       1.88             3.02   \n",
       "3          3.26          3.07          0.19       1.92             3.08   \n",
       "4          3.27          3.08          0.19       1.92             3.09   \n",
       "\n",
       "   rho (g/m**3)  wv (m/s)  max. wv (m/s)  wd (deg)  \n",
       "0       1307.75      1.03           1.75     152.3  \n",
       "1       1309.80      0.72           1.50     136.1  \n",
       "2       1310.24      0.19           0.63     171.6  \n",
       "3       1309.19      0.34           0.50     198.0  \n",
       "4       1309.00      0.32           0.63     214.3  "
      ]
     },
     "execution_count": 3,
     "metadata": {},
     "output_type": "execute_result"
    }
   ],
   "source": [
    "df = pd.read_csv(csv_path)\n",
    "df.head()"
   ]
  },
  {
   "cell_type": "markdown",
   "id": "72133cb7",
   "metadata": {
    "papermill": {
     "duration": 0.006494,
     "end_time": "2023-03-03T14:36:52.183534",
     "exception": false,
     "start_time": "2023-03-03T14:36:52.177040",
     "status": "completed"
    },
    "tags": []
   },
   "source": [
    "# Partitioning Data\n",
    "Data on weather was recorded at 10-minute intervals. For the sake of this project, I'll reduce it down to an hourly measurement."
   ]
  },
  {
   "cell_type": "code",
   "execution_count": 4,
   "id": "cd26f2bd",
   "metadata": {
    "execution": {
     "iopub.execute_input": "2023-03-03T14:36:52.197906Z",
     "iopub.status.busy": "2023-03-03T14:36:52.197578Z",
     "iopub.status.idle": "2023-03-03T14:36:52.219714Z",
     "shell.execute_reply": "2023-03-03T14:36:52.218683Z"
    },
    "papermill": {
     "duration": 0.031848,
     "end_time": "2023-03-03T14:36:52.221859",
     "exception": false,
     "start_time": "2023-03-03T14:36:52.190011",
     "status": "completed"
    },
    "tags": []
   },
   "outputs": [
    {
     "data": {
      "text/html": [
       "<div>\n",
       "<style scoped>\n",
       "    .dataframe tbody tr th:only-of-type {\n",
       "        vertical-align: middle;\n",
       "    }\n",
       "\n",
       "    .dataframe tbody tr th {\n",
       "        vertical-align: top;\n",
       "    }\n",
       "\n",
       "    .dataframe thead th {\n",
       "        text-align: right;\n",
       "    }\n",
       "</style>\n",
       "<table border=\"1\" class=\"dataframe\">\n",
       "  <thead>\n",
       "    <tr style=\"text-align: right;\">\n",
       "      <th></th>\n",
       "      <th>Date Time</th>\n",
       "      <th>p (mbar)</th>\n",
       "      <th>T (degC)</th>\n",
       "      <th>Tpot (K)</th>\n",
       "      <th>Tdew (degC)</th>\n",
       "      <th>rh (%)</th>\n",
       "      <th>VPmax (mbar)</th>\n",
       "      <th>VPact (mbar)</th>\n",
       "      <th>VPdef (mbar)</th>\n",
       "      <th>sh (g/kg)</th>\n",
       "      <th>H2OC (mmol/mol)</th>\n",
       "      <th>rho (g/m**3)</th>\n",
       "      <th>wv (m/s)</th>\n",
       "      <th>max. wv (m/s)</th>\n",
       "      <th>wd (deg)</th>\n",
       "    </tr>\n",
       "  </thead>\n",
       "  <tbody>\n",
       "    <tr>\n",
       "      <th>5</th>\n",
       "      <td>01.01.2009 01:00:00</td>\n",
       "      <td>996.50</td>\n",
       "      <td>-8.05</td>\n",
       "      <td>265.38</td>\n",
       "      <td>-8.78</td>\n",
       "      <td>94.4</td>\n",
       "      <td>3.33</td>\n",
       "      <td>3.14</td>\n",
       "      <td>0.19</td>\n",
       "      <td>1.96</td>\n",
       "      <td>3.15</td>\n",
       "      <td>1307.86</td>\n",
       "      <td>0.21</td>\n",
       "      <td>0.63</td>\n",
       "      <td>192.7</td>\n",
       "    </tr>\n",
       "    <tr>\n",
       "      <th>11</th>\n",
       "      <td>01.01.2009 02:00:00</td>\n",
       "      <td>996.62</td>\n",
       "      <td>-8.88</td>\n",
       "      <td>264.54</td>\n",
       "      <td>-9.77</td>\n",
       "      <td>93.2</td>\n",
       "      <td>3.12</td>\n",
       "      <td>2.90</td>\n",
       "      <td>0.21</td>\n",
       "      <td>1.81</td>\n",
       "      <td>2.91</td>\n",
       "      <td>1312.25</td>\n",
       "      <td>0.25</td>\n",
       "      <td>0.63</td>\n",
       "      <td>190.3</td>\n",
       "    </tr>\n",
       "    <tr>\n",
       "      <th>17</th>\n",
       "      <td>01.01.2009 03:00:00</td>\n",
       "      <td>996.84</td>\n",
       "      <td>-8.81</td>\n",
       "      <td>264.59</td>\n",
       "      <td>-9.66</td>\n",
       "      <td>93.5</td>\n",
       "      <td>3.13</td>\n",
       "      <td>2.93</td>\n",
       "      <td>0.20</td>\n",
       "      <td>1.83</td>\n",
       "      <td>2.94</td>\n",
       "      <td>1312.18</td>\n",
       "      <td>0.18</td>\n",
       "      <td>0.63</td>\n",
       "      <td>167.2</td>\n",
       "    </tr>\n",
       "    <tr>\n",
       "      <th>23</th>\n",
       "      <td>01.01.2009 04:00:00</td>\n",
       "      <td>996.99</td>\n",
       "      <td>-9.05</td>\n",
       "      <td>264.34</td>\n",
       "      <td>-10.02</td>\n",
       "      <td>92.6</td>\n",
       "      <td>3.07</td>\n",
       "      <td>2.85</td>\n",
       "      <td>0.23</td>\n",
       "      <td>1.78</td>\n",
       "      <td>2.85</td>\n",
       "      <td>1313.61</td>\n",
       "      <td>0.10</td>\n",
       "      <td>0.38</td>\n",
       "      <td>240.0</td>\n",
       "    </tr>\n",
       "    <tr>\n",
       "      <th>29</th>\n",
       "      <td>01.01.2009 05:00:00</td>\n",
       "      <td>997.46</td>\n",
       "      <td>-9.63</td>\n",
       "      <td>263.72</td>\n",
       "      <td>-10.65</td>\n",
       "      <td>92.2</td>\n",
       "      <td>2.94</td>\n",
       "      <td>2.71</td>\n",
       "      <td>0.23</td>\n",
       "      <td>1.69</td>\n",
       "      <td>2.71</td>\n",
       "      <td>1317.19</td>\n",
       "      <td>0.40</td>\n",
       "      <td>0.88</td>\n",
       "      <td>157.0</td>\n",
       "    </tr>\n",
       "  </tbody>\n",
       "</table>\n",
       "</div>"
      ],
      "text/plain": [
       "              Date Time  p (mbar)  T (degC)  Tpot (K)  Tdew (degC)  rh (%)  \\\n",
       "5   01.01.2009 01:00:00    996.50     -8.05    265.38        -8.78    94.4   \n",
       "11  01.01.2009 02:00:00    996.62     -8.88    264.54        -9.77    93.2   \n",
       "17  01.01.2009 03:00:00    996.84     -8.81    264.59        -9.66    93.5   \n",
       "23  01.01.2009 04:00:00    996.99     -9.05    264.34       -10.02    92.6   \n",
       "29  01.01.2009 05:00:00    997.46     -9.63    263.72       -10.65    92.2   \n",
       "\n",
       "    VPmax (mbar)  VPact (mbar)  VPdef (mbar)  sh (g/kg)  H2OC (mmol/mol)  \\\n",
       "5           3.33          3.14          0.19       1.96             3.15   \n",
       "11          3.12          2.90          0.21       1.81             2.91   \n",
       "17          3.13          2.93          0.20       1.83             2.94   \n",
       "23          3.07          2.85          0.23       1.78             2.85   \n",
       "29          2.94          2.71          0.23       1.69             2.71   \n",
       "\n",
       "    rho (g/m**3)  wv (m/s)  max. wv (m/s)  wd (deg)  \n",
       "5        1307.86      0.21           0.63     192.7  \n",
       "11       1312.25      0.25           0.63     190.3  \n",
       "17       1312.18      0.18           0.63     167.2  \n",
       "23       1313.61      0.10           0.38     240.0  \n",
       "29       1317.19      0.40           0.88     157.0  "
      ]
     },
     "execution_count": 4,
     "metadata": {},
     "output_type": "execute_result"
    }
   ],
   "source": [
    "#take every sixth row\n",
    "df = df[5::6]\n",
    "df.head()"
   ]
  },
  {
   "cell_type": "code",
   "execution_count": 5,
   "id": "b6a52965",
   "metadata": {
    "execution": {
     "iopub.execute_input": "2023-03-03T14:36:52.236804Z",
     "iopub.status.busy": "2023-03-03T14:36:52.236514Z",
     "iopub.status.idle": "2023-03-03T14:36:52.453997Z",
     "shell.execute_reply": "2023-03-03T14:36:52.452889Z"
    },
    "papermill": {
     "duration": 0.22805,
     "end_time": "2023-03-03T14:36:52.456620",
     "exception": false,
     "start_time": "2023-03-03T14:36:52.228570",
     "status": "completed"
    },
    "tags": []
   },
   "outputs": [
    {
     "data": {
      "text/html": [
       "<div>\n",
       "<style scoped>\n",
       "    .dataframe tbody tr th:only-of-type {\n",
       "        vertical-align: middle;\n",
       "    }\n",
       "\n",
       "    .dataframe tbody tr th {\n",
       "        vertical-align: top;\n",
       "    }\n",
       "\n",
       "    .dataframe thead th {\n",
       "        text-align: right;\n",
       "    }\n",
       "</style>\n",
       "<table border=\"1\" class=\"dataframe\">\n",
       "  <thead>\n",
       "    <tr style=\"text-align: right;\">\n",
       "      <th></th>\n",
       "      <th>Date Time</th>\n",
       "      <th>p (mbar)</th>\n",
       "      <th>T (degC)</th>\n",
       "      <th>Tpot (K)</th>\n",
       "      <th>Tdew (degC)</th>\n",
       "      <th>rh (%)</th>\n",
       "      <th>VPmax (mbar)</th>\n",
       "      <th>VPact (mbar)</th>\n",
       "      <th>VPdef (mbar)</th>\n",
       "      <th>sh (g/kg)</th>\n",
       "      <th>H2OC (mmol/mol)</th>\n",
       "      <th>rho (g/m**3)</th>\n",
       "      <th>wv (m/s)</th>\n",
       "      <th>max. wv (m/s)</th>\n",
       "      <th>wd (deg)</th>\n",
       "    </tr>\n",
       "    <tr>\n",
       "      <th>Date Time</th>\n",
       "      <th></th>\n",
       "      <th></th>\n",
       "      <th></th>\n",
       "      <th></th>\n",
       "      <th></th>\n",
       "      <th></th>\n",
       "      <th></th>\n",
       "      <th></th>\n",
       "      <th></th>\n",
       "      <th></th>\n",
       "      <th></th>\n",
       "      <th></th>\n",
       "      <th></th>\n",
       "      <th></th>\n",
       "      <th></th>\n",
       "    </tr>\n",
       "  </thead>\n",
       "  <tbody>\n",
       "    <tr>\n",
       "      <th>2009-01-01 01:00:00</th>\n",
       "      <td>01.01.2009 01:00:00</td>\n",
       "      <td>996.50</td>\n",
       "      <td>-8.05</td>\n",
       "      <td>265.38</td>\n",
       "      <td>-8.78</td>\n",
       "      <td>94.4</td>\n",
       "      <td>3.33</td>\n",
       "      <td>3.14</td>\n",
       "      <td>0.19</td>\n",
       "      <td>1.96</td>\n",
       "      <td>3.15</td>\n",
       "      <td>1307.86</td>\n",
       "      <td>0.21</td>\n",
       "      <td>0.63</td>\n",
       "      <td>192.7</td>\n",
       "    </tr>\n",
       "    <tr>\n",
       "      <th>2009-01-01 02:00:00</th>\n",
       "      <td>01.01.2009 02:00:00</td>\n",
       "      <td>996.62</td>\n",
       "      <td>-8.88</td>\n",
       "      <td>264.54</td>\n",
       "      <td>-9.77</td>\n",
       "      <td>93.2</td>\n",
       "      <td>3.12</td>\n",
       "      <td>2.90</td>\n",
       "      <td>0.21</td>\n",
       "      <td>1.81</td>\n",
       "      <td>2.91</td>\n",
       "      <td>1312.25</td>\n",
       "      <td>0.25</td>\n",
       "      <td>0.63</td>\n",
       "      <td>190.3</td>\n",
       "    </tr>\n",
       "    <tr>\n",
       "      <th>2009-01-01 03:00:00</th>\n",
       "      <td>01.01.2009 03:00:00</td>\n",
       "      <td>996.84</td>\n",
       "      <td>-8.81</td>\n",
       "      <td>264.59</td>\n",
       "      <td>-9.66</td>\n",
       "      <td>93.5</td>\n",
       "      <td>3.13</td>\n",
       "      <td>2.93</td>\n",
       "      <td>0.20</td>\n",
       "      <td>1.83</td>\n",
       "      <td>2.94</td>\n",
       "      <td>1312.18</td>\n",
       "      <td>0.18</td>\n",
       "      <td>0.63</td>\n",
       "      <td>167.2</td>\n",
       "    </tr>\n",
       "    <tr>\n",
       "      <th>2009-01-01 04:00:00</th>\n",
       "      <td>01.01.2009 04:00:00</td>\n",
       "      <td>996.99</td>\n",
       "      <td>-9.05</td>\n",
       "      <td>264.34</td>\n",
       "      <td>-10.02</td>\n",
       "      <td>92.6</td>\n",
       "      <td>3.07</td>\n",
       "      <td>2.85</td>\n",
       "      <td>0.23</td>\n",
       "      <td>1.78</td>\n",
       "      <td>2.85</td>\n",
       "      <td>1313.61</td>\n",
       "      <td>0.10</td>\n",
       "      <td>0.38</td>\n",
       "      <td>240.0</td>\n",
       "    </tr>\n",
       "    <tr>\n",
       "      <th>2009-01-01 05:00:00</th>\n",
       "      <td>01.01.2009 05:00:00</td>\n",
       "      <td>997.46</td>\n",
       "      <td>-9.63</td>\n",
       "      <td>263.72</td>\n",
       "      <td>-10.65</td>\n",
       "      <td>92.2</td>\n",
       "      <td>2.94</td>\n",
       "      <td>2.71</td>\n",
       "      <td>0.23</td>\n",
       "      <td>1.69</td>\n",
       "      <td>2.71</td>\n",
       "      <td>1317.19</td>\n",
       "      <td>0.40</td>\n",
       "      <td>0.88</td>\n",
       "      <td>157.0</td>\n",
       "    </tr>\n",
       "  </tbody>\n",
       "</table>\n",
       "</div>"
      ],
      "text/plain": [
       "                               Date Time  p (mbar)  T (degC)  Tpot (K)  \\\n",
       "Date Time                                                                \n",
       "2009-01-01 01:00:00  01.01.2009 01:00:00    996.50     -8.05    265.38   \n",
       "2009-01-01 02:00:00  01.01.2009 02:00:00    996.62     -8.88    264.54   \n",
       "2009-01-01 03:00:00  01.01.2009 03:00:00    996.84     -8.81    264.59   \n",
       "2009-01-01 04:00:00  01.01.2009 04:00:00    996.99     -9.05    264.34   \n",
       "2009-01-01 05:00:00  01.01.2009 05:00:00    997.46     -9.63    263.72   \n",
       "\n",
       "                     Tdew (degC)  rh (%)  VPmax (mbar)  VPact (mbar)  \\\n",
       "Date Time                                                              \n",
       "2009-01-01 01:00:00        -8.78    94.4          3.33          3.14   \n",
       "2009-01-01 02:00:00        -9.77    93.2          3.12          2.90   \n",
       "2009-01-01 03:00:00        -9.66    93.5          3.13          2.93   \n",
       "2009-01-01 04:00:00       -10.02    92.6          3.07          2.85   \n",
       "2009-01-01 05:00:00       -10.65    92.2          2.94          2.71   \n",
       "\n",
       "                     VPdef (mbar)  sh (g/kg)  H2OC (mmol/mol)  rho (g/m**3)  \\\n",
       "Date Time                                                                     \n",
       "2009-01-01 01:00:00          0.19       1.96             3.15       1307.86   \n",
       "2009-01-01 02:00:00          0.21       1.81             2.91       1312.25   \n",
       "2009-01-01 03:00:00          0.20       1.83             2.94       1312.18   \n",
       "2009-01-01 04:00:00          0.23       1.78             2.85       1313.61   \n",
       "2009-01-01 05:00:00          0.23       1.69             2.71       1317.19   \n",
       "\n",
       "                     wv (m/s)  max. wv (m/s)  wd (deg)  \n",
       "Date Time                                               \n",
       "2009-01-01 01:00:00      0.21           0.63     192.7  \n",
       "2009-01-01 02:00:00      0.25           0.63     190.3  \n",
       "2009-01-01 03:00:00      0.18           0.63     167.2  \n",
       "2009-01-01 04:00:00      0.10           0.38     240.0  \n",
       "2009-01-01 05:00:00      0.40           0.88     157.0  "
      ]
     },
     "execution_count": 5,
     "metadata": {},
     "output_type": "execute_result"
    }
   ],
   "source": [
    "#setting dataframe index to date-time\n",
    "df.index = pd.to_datetime(df['Date Time'], format='%d.%m.%Y %H:%M:%S')\n",
    "df.head()"
   ]
  },
  {
   "cell_type": "code",
   "execution_count": 6,
   "id": "95c0f6c9",
   "metadata": {
    "execution": {
     "iopub.execute_input": "2023-03-03T14:36:52.472464Z",
     "iopub.status.busy": "2023-03-03T14:36:52.472153Z",
     "iopub.status.idle": "2023-03-03T14:36:53.289461Z",
     "shell.execute_reply": "2023-03-03T14:36:53.288266Z"
    },
    "papermill": {
     "duration": 0.827849,
     "end_time": "2023-03-03T14:36:53.291886",
     "exception": false,
     "start_time": "2023-03-03T14:36:52.464037",
     "status": "completed"
    },
    "tags": []
   },
   "outputs": [
    {
     "data": {
      "text/plain": [
       "<AxesSubplot:xlabel='Date Time'>"
      ]
     },
     "execution_count": 6,
     "metadata": {},
     "output_type": "execute_result"
    },
    {
     "data": {
      "image/png": "[encoded data removed]",
      "text/plain": [
       "<Figure size 640x480 with 1 Axes>"
      ]
     },
     "metadata": {},
     "output_type": "display_data"
    }
   ],
   "source": [
    "#plotting yearly temp. patterns\n",
    "temp = df['T (degC)']\n",
    "temp.plot()"
   ]
  },
  {
   "cell_type": "markdown",
   "id": "d826278e",
   "metadata": {
    "papermill": {
     "duration": 0.00788,
     "end_time": "2023-03-03T14:36:53.307867",
     "exception": false,
     "start_time": "2023-03-03T14:36:53.299987",
     "status": "completed"
    },
    "tags": []
   },
   "source": [
    "# ***Single Variable Time Series Forecasting***\n",
    "I'll be building out a Long Short-Term Memory Neural Network. As an input to this model, I'll pass in weather data from 5 hours. The output will be the model's prediction for the next hour. Then, the model will receive input from a 5 hour grouping starting one hour later, and so on.\n",
    "\n",
    "\n",
    "*Iteration 1: in(1, 2, 3, 4, 5) -> out(predict 6)*\n",
    "\n",
    "*Iteration 2: in(2, 3, 4, 5, 6) -> out(predict 7)*\n",
    "\n",
    "*....*\n",
    "\n",
    "*Iteration n: in(n-4, n-3, n-2, n-1, n) -> out(pred n+1)*\n",
    "\n",
    "\n",
    "This \"sliding window\" approach only requires one recurring network layer that will be applied to each input matrix."
   ]
  },
  {
   "cell_type": "markdown",
   "id": "1953f6bb",
   "metadata": {
    "papermill": {
     "duration": 0.007815,
     "end_time": "2023-03-03T14:36:53.323780",
     "exception": false,
     "start_time": "2023-03-03T14:36:53.315965",
     "status": "completed"
    },
    "tags": []
   },
   "source": [
    "# From Dataframe to Matrix\n",
    "In order to build the neural network described above, I have to map each group of rows in the dataframe to a vector containing weather data. In this case, I'll just be using the temperature variable to predict the temperature, although you could utilize multivariate forecasting to likely be more precise."
   ]
  },
  {
   "cell_type": "code",
   "execution_count": 7,
   "id": "a07b518e",
   "metadata": {
    "execution": {
     "iopub.execute_input": "2023-03-03T14:36:53.341688Z",
     "iopub.status.busy": "2023-03-03T14:36:53.341337Z",
     "iopub.status.idle": "2023-03-03T14:36:53.348009Z",
     "shell.execute_reply": "2023-03-03T14:36:53.346853Z"
    },
    "papermill": {
     "duration": 0.018428,
     "end_time": "2023-03-03T14:36:53.350283",
     "exception": false,
     "start_time": "2023-03-03T14:36:53.331855",
     "status": "completed"
    },
    "tags": []
   },
   "outputs": [],
   "source": [
    "#dataframe to matrix function\n",
    "def df_to_matrix(df, window_size=5):\n",
    "    df_as_np = df.to_numpy()\n",
    "    X = []\n",
    "    y = []\n",
    "    \n",
    "    #iterating over numpy matrix\n",
    "    for i in range(len(df_as_np) - window_size):\n",
    "        #getting 5 rows worth of data & adding vect. to X\n",
    "        row = [[a] for a in df_as_np[i:i+5]]\n",
    "        X.append(row)\n",
    "        #getting expected output & adding to y\n",
    "        actual = df_as_np[i+5] #'i+5' because 'i:i+5' doesn't include 'i+5'\n",
    "        y.append(actual)\n",
    "\n",
    "    #return tuple of X array and y array\n",
    "    return np.array(X), np.array(y)"
   ]
  },
  {
   "cell_type": "markdown",
   "id": "36e8c185",
   "metadata": {
    "papermill": {
     "duration": 0.007876,
     "end_time": "2023-03-03T14:36:53.366166",
     "exception": false,
     "start_time": "2023-03-03T14:36:53.358290",
     "status": "completed"
    },
    "tags": []
   },
   "source": [
    "# Creating Features and Target, Splitting"
   ]
  },
  {
   "cell_type": "code",
   "execution_count": 8,
   "id": "e03a18f0",
   "metadata": {
    "execution": {
     "iopub.execute_input": "2023-03-03T14:36:53.384271Z",
     "iopub.status.busy": "2023-03-03T14:36:53.383259Z",
     "iopub.status.idle": "2023-03-03T14:36:54.349737Z",
     "shell.execute_reply": "2023-03-03T14:36:54.348663Z"
    },
    "papermill": {
     "duration": 0.97758,
     "end_time": "2023-03-03T14:36:54.352007",
     "exception": false,
     "start_time": "2023-03-03T14:36:53.374427",
     "status": "completed"
    },
    "tags": []
   },
   "outputs": [
    {
     "data": {
      "text/plain": [
       "((70086, 5, 1), (70086,))"
      ]
     },
     "execution_count": 8,
     "metadata": {},
     "output_type": "execute_result"
    }
   ],
   "source": [
    "X, y = df_to_matrix(temp)\n",
    "X.shape, y.shape"
   ]
  },
  {
   "cell_type": "code",
   "execution_count": 9,
   "id": "4c94f360",
   "metadata": {
    "execution": {
     "iopub.execute_input": "2023-03-03T14:36:54.370444Z",
     "iopub.status.busy": "2023-03-03T14:36:54.368711Z",
     "iopub.status.idle": "2023-03-03T14:36:54.377422Z",
     "shell.execute_reply": "2023-03-03T14:36:54.376438Z"
    },
    "papermill": {
     "duration": 0.019733,
     "end_time": "2023-03-03T14:36:54.379573",
     "exception": false,
     "start_time": "2023-03-03T14:36:54.359840",
     "status": "completed"
    },
    "tags": []
   },
   "outputs": [
    {
     "data": {
      "text/plain": [
       "((60000, 5, 1), (60000,), (5000, 5, 1), (5000,), (5086, 5, 1), (5086,))"
      ]
     },
     "execution_count": 9,
     "metadata": {},
     "output_type": "execute_result"
    }
   ],
   "source": [
    "X_train, y_train = X[:60000], y[:60000]\n",
    "X_val, y_val = X[60000:65000], y[60000:65000]\n",
    "X_test, y_test = X[65000:], y[65000:]\n",
    "X_train.shape, y_train.shape, X_val.shape, y_val.shape, X_test.shape, y_test.shape"
   ]
  },
  {
   "cell_type": "markdown",
   "id": "bbd53c00",
   "metadata": {
    "papermill": {
     "duration": 0.007437,
     "end_time": "2023-03-03T14:36:54.394645",
     "exception": false,
     "start_time": "2023-03-03T14:36:54.387208",
     "status": "completed"
    },
    "tags": []
   },
   "source": [
    "# Building Model\n",
    "Now that the data has been formatted and seperated into training data, validation data, and testing data, the model can be built!"
   ]
  },
  {
   "cell_type": "code",
   "execution_count": 10,
   "id": "f0b85f91",
   "metadata": {
    "execution": {
     "iopub.execute_input": "2023-03-03T14:36:54.411536Z",
     "iopub.status.busy": "2023-03-03T14:36:54.410733Z",
     "iopub.status.idle": "2023-03-03T14:36:54.418606Z",
     "shell.execute_reply": "2023-03-03T14:36:54.417710Z"
    },
    "papermill": {
     "duration": 0.018397,
     "end_time": "2023-03-03T14:36:54.420660",
     "exception": false,
     "start_time": "2023-03-03T14:36:54.402263",
     "status": "completed"
    },
    "tags": []
   },
   "outputs": [],
   "source": [
    "from tensorflow.keras.models import Sequential\n",
    "from tensorflow.keras.layers import *\n",
    "from tensorflow.keras.callbacks import ModelCheckpoint\n",
    "from tensorflow.keras.losses import MeanSquaredError\n",
    "from tensorflow.keras.metrics import RootMeanSquaredError\n",
    "from tensorflow.keras.optimizers import Adam"
   ]
  },
  {
   "cell_type": "code",
   "execution_count": 11,
   "id": "a5ca3839",
   "metadata": {
    "execution": {
     "iopub.execute_input": "2023-03-03T14:36:54.437615Z",
     "iopub.status.busy": "2023-03-03T14:36:54.436801Z",
     "iopub.status.idle": "2023-03-03T14:36:57.219406Z",
     "shell.execute_reply": "2023-03-03T14:36:57.218541Z"
    },
    "papermill": {
     "duration": 2.796842,
     "end_time": "2023-03-03T14:36:57.225189",
     "exception": false,
     "start_time": "2023-03-03T14:36:54.428347",
     "status": "completed"
    },
    "tags": []
   },
   "outputs": [
    {
     "name": "stdout",
     "output_type": "stream",
     "text": [
      "Model: \"sequential\"\n",
      "_________________________________________________________________\n",
      " Layer (type)                Output Shape              Param #   \n",
      "=================================================================\n",
      " lstm (LSTM)                 (None, 64)                16896     \n",
      "                                                                 \n",
      " dense (Dense)               (None, 8)                 520       \n",
      "                                                                 \n",
      " dense_1 (Dense)             (None, 1)                 9         \n",
      "                                                                 \n",
      "=================================================================\n",
      "Total params: 17,425\n",
      "Trainable params: 17,425\n",
      "Non-trainable params: 0\n",
      "_________________________________________________________________\n"
     ]
    }
   ],
   "source": [
    "model1 = Sequential()\n",
    "#input is expected to be a 5X1 vector\n",
    "model1.add(InputLayer((5, 1)))\n",
    "#recurring layer\n",
    "model1.add(LSTM(64))\n",
    "model1.add(Dense(8, 'relu'))\n",
    "#output should be 1 numeric value\n",
    "model1.add(Dense(1, 'linear'))\n",
    "\n",
    "model1.summary()"
   ]
  },
  {
   "cell_type": "markdown",
   "id": "212d2ea4",
   "metadata": {
    "papermill": {
     "duration": 0.008214,
     "end_time": "2023-03-03T14:36:57.241969",
     "exception": false,
     "start_time": "2023-03-03T14:36:57.233755",
     "status": "completed"
    },
    "tags": []
   },
   "source": [
    "# Specifying Training Callbacks\n",
    "The ModelCheckpoint will only save the model with the lowest loss grade, which is the mean squared error in our case."
   ]
  },
  {
   "cell_type": "code",
   "execution_count": 12,
   "id": "abfed694",
   "metadata": {
    "execution": {
     "iopub.execute_input": "2023-03-03T14:36:57.259779Z",
     "iopub.status.busy": "2023-03-03T14:36:57.259480Z",
     "iopub.status.idle": "2023-03-03T14:36:57.278040Z",
     "shell.execute_reply": "2023-03-03T14:36:57.277131Z"
    },
    "papermill": {
     "duration": 0.029855,
     "end_time": "2023-03-03T14:36:57.280111",
     "exception": false,
     "start_time": "2023-03-03T14:36:57.250256",
     "status": "completed"
    },
    "tags": []
   },
   "outputs": [],
   "source": [
    "cp = ModelCheckpoint('model1/', save_best_only=True)\n",
    "model1.compile(loss=MeanSquaredError(), optimizer=Adam(learning_rate=0.0001), metrics=[RootMeanSquaredError()])"
   ]
  },
  {
   "cell_type": "code",
   "execution_count": 13,
   "id": "04e8ed30",
   "metadata": {
    "execution": {
     "iopub.execute_input": "2023-03-03T14:36:57.298062Z",
     "iopub.status.busy": "2023-03-03T14:36:57.297780Z",
     "iopub.status.idle": "2023-03-03T14:39:20.875574Z",
     "shell.execute_reply": "2023-03-03T14:39:20.874413Z"
    },
    "papermill": {
     "duration": 143.667244,
     "end_time": "2023-03-03T14:39:20.955734",
     "exception": false,
     "start_time": "2023-03-03T14:36:57.288490",
     "status": "completed"
    },
    "tags": []
   },
   "outputs": [
    {
     "name": "stdout",
     "output_type": "stream",
     "text": [
      "Epoch 1/10\n",
      "1875/1875 [==============================] - 18s 6ms/step - loss: 31.1433 - root_mean_squared_error: 5.5806 - val_loss: 1.1200 - val_root_mean_squared_error: 1.0583\n",
      "Epoch 2/10\n",
      "1875/1875 [==============================] - 11s 6ms/step - loss: 1.6735 - root_mean_squared_error: 1.2936 - val_loss: 0.6050 - val_root_mean_squared_error: 0.7778\n",
      "Epoch 3/10\n",
      "1875/1875 [==============================] - 12s 6ms/step - loss: 0.8473 - root_mean_squared_error: 0.9205 - val_loss: 0.5209 - val_root_mean_squared_error: 0.7217\n",
      "Epoch 4/10\n",
      "1875/1875 [==============================] - 11s 6ms/step - loss: 0.7098 - root_mean_squared_error: 0.8425 - val_loss: 0.5105 - val_root_mean_squared_error: 0.7145\n",
      "Epoch 5/10\n",
      "1875/1875 [==============================] - 11s 6ms/step - loss: 0.6772 - root_mean_squared_error: 0.8229 - val_loss: 0.5033 - val_root_mean_squared_error: 0.7095\n",
      "Epoch 6/10\n",
      "1875/1875 [==============================] - 8s 4ms/step - loss: 0.6644 - root_mean_squared_error: 0.8151 - val_loss: 0.5151 - val_root_mean_squared_error: 0.7177\n",
      "Epoch 7/10\n",
      "1875/1875 [==============================] - 8s 4ms/step - loss: 0.6565 - root_mean_squared_error: 0.8103 - val_loss: 0.5129 - val_root_mean_squared_error: 0.7162\n",
      "Epoch 8/10\n",
      "1875/1875 [==============================] - 7s 4ms/step - loss: 0.6537 - root_mean_squared_error: 0.8085 - val_loss: 0.5061 - val_root_mean_squared_error: 0.7114\n",
      "Epoch 9/10\n",
      "1875/1875 [==============================] - 12s 6ms/step - loss: 0.6498 - root_mean_squared_error: 0.8061 - val_loss: 0.4937 - val_root_mean_squared_error: 0.7026\n",
      "Epoch 10/10\n",
      "1875/1875 [==============================] - 8s 4ms/step - loss: 0.6470 - root_mean_squared_error: 0.8044 - val_loss: 0.4982 - val_root_mean_squared_error: 0.7058\n"
     ]
    },
    {
     "data": {
      "text/plain": [
       "<keras.callbacks.History at 0x7f41021c1750>"
      ]
     },
     "execution_count": 13,
     "metadata": {},
     "output_type": "execute_result"
    }
   ],
   "source": [
    "#fitting model to training data and testing it against validation data\n",
    "#run through dataset 10 times, only updating the model if it performed better than the last iteration\n",
    "model1.fit(X_train, y_train, validation_data=(X_val, y_val), epochs=10, callbacks=[cp])"
   ]
  },
  {
   "cell_type": "markdown",
   "id": "c51e987f",
   "metadata": {
    "execution": {
     "iopub.execute_input": "2023-03-03T14:10:03.117187Z",
     "iopub.status.busy": "2023-03-03T14:10:03.116378Z",
     "iopub.status.idle": "2023-03-03T14:10:03.149265Z",
     "shell.execute_reply": "2023-03-03T14:10:03.147585Z",
     "shell.execute_reply.started": "2023-03-03T14:10:03.117141Z"
    },
    "papermill": {
     "duration": 0.083657,
     "end_time": "2023-03-03T14:39:21.118353",
     "exception": false,
     "start_time": "2023-03-03T14:39:21.034696",
     "status": "completed"
    },
    "tags": []
   },
   "source": [
    "# Training Analysis\n",
    "The model performed well, with its val_loss metric from the first epoch being 1.3, and dropping down to 0.49 by the final iteration. The model performed best on the 9th iteration, so that model will be saved to the 'model1/' directory by the ModelCheckpoint object."
   ]
  },
  {
   "cell_type": "code",
   "execution_count": 14,
   "id": "ed9a1dca",
   "metadata": {
    "execution": {
     "iopub.execute_input": "2023-03-03T14:39:21.281314Z",
     "iopub.status.busy": "2023-03-03T14:39:21.280563Z",
     "iopub.status.idle": "2023-03-03T14:39:22.819696Z",
     "shell.execute_reply": "2023-03-03T14:39:22.818664Z"
    },
    "papermill": {
     "duration": 1.621933,
     "end_time": "2023-03-03T14:39:22.822593",
     "exception": false,
     "start_time": "2023-03-03T14:39:21.200660",
     "status": "completed"
    },
    "tags": []
   },
   "outputs": [],
   "source": [
    "from tensorflow.keras.models import load_model\n",
    "model1 = load_model('model1')"
   ]
  },
  {
   "cell_type": "code",
   "execution_count": 15,
   "id": "f10dea06",
   "metadata": {
    "execution": {
     "iopub.execute_input": "2023-03-03T14:39:22.984351Z",
     "iopub.status.busy": "2023-03-03T14:39:22.983971Z",
     "iopub.status.idle": "2023-03-03T14:39:28.479333Z",
     "shell.execute_reply": "2023-03-03T14:39:28.478247Z"
    },
    "papermill": {
     "duration": 5.577494,
     "end_time": "2023-03-03T14:39:28.481580",
     "exception": false,
     "start_time": "2023-03-03T14:39:22.904086",
     "status": "completed"
    },
    "tags": []
   },
   "outputs": [
    {
     "name": "stdout",
     "output_type": "stream",
     "text": [
      "1875/1875 [==============================] - 4s 2ms/step\n"
     ]
    },
    {
     "data": {
      "text/html": [
       "<div>\n",
       "<style scoped>\n",
       "    .dataframe tbody tr th:only-of-type {\n",
       "        vertical-align: middle;\n",
       "    }\n",
       "\n",
       "    .dataframe tbody tr th {\n",
       "        vertical-align: top;\n",
       "    }\n",
       "\n",
       "    .dataframe thead th {\n",
       "        text-align: right;\n",
       "    }\n",
       "</style>\n",
       "<table border=\"1\" class=\"dataframe\">\n",
       "  <thead>\n",
       "    <tr style=\"text-align: right;\">\n",
       "      <th></th>\n",
       "      <th>Predictions</th>\n",
       "      <th>Actuals</th>\n",
       "    </tr>\n",
       "  </thead>\n",
       "  <tbody>\n",
       "    <tr>\n",
       "      <th>0</th>\n",
       "      <td>-9.749097</td>\n",
       "      <td>-9.67</td>\n",
       "    </tr>\n",
       "    <tr>\n",
       "      <th>1</th>\n",
       "      <td>-9.473578</td>\n",
       "      <td>-9.17</td>\n",
       "    </tr>\n",
       "    <tr>\n",
       "      <th>2</th>\n",
       "      <td>-8.569425</td>\n",
       "      <td>-8.10</td>\n",
       "    </tr>\n",
       "    <tr>\n",
       "      <th>3</th>\n",
       "      <td>-7.114522</td>\n",
       "      <td>-7.66</td>\n",
       "    </tr>\n",
       "    <tr>\n",
       "      <th>4</th>\n",
       "      <td>-7.046812</td>\n",
       "      <td>-7.04</td>\n",
       "    </tr>\n",
       "  </tbody>\n",
       "</table>\n",
       "</div>"
      ],
      "text/plain": [
       "   Predictions  Actuals\n",
       "0    -9.749097    -9.67\n",
       "1    -9.473578    -9.17\n",
       "2    -8.569425    -8.10\n",
       "3    -7.114522    -7.66\n",
       "4    -7.046812    -7.04"
      ]
     },
     "execution_count": 15,
     "metadata": {},
     "output_type": "execute_result"
    }
   ],
   "source": [
    "# the flatten method gets rid of internal lists. [[5], [6]] -> [5, 6]\n",
    "train_predictions = model1.predict(X_train).flatten()\n",
    "train_results = pd.DataFrame({\n",
    "    \"Predictions\" : train_predictions,\n",
    "    \"Actuals\" : y_train\n",
    "})\n",
    "train_results.head()"
   ]
  },
  {
   "cell_type": "code",
   "execution_count": 16,
   "id": "320b921b",
   "metadata": {
    "execution": {
     "iopub.execute_input": "2023-03-03T14:39:28.650512Z",
     "iopub.status.busy": "2023-03-03T14:39:28.650128Z",
     "iopub.status.idle": "2023-03-03T14:39:28.846231Z",
     "shell.execute_reply": "2023-03-03T14:39:28.845272Z"
    },
    "papermill": {
     "duration": 0.281836,
     "end_time": "2023-03-03T14:39:28.848450",
     "exception": false,
     "start_time": "2023-03-03T14:39:28.566614",
     "status": "completed"
    },
    "tags": []
   },
   "outputs": [
    {
     "data": {
      "image/png": "[encoded data removed]",
      "text/plain": [
       "<Figure size 640x480 with 1 Axes>"
      ]
     },
     "metadata": {},
     "output_type": "display_data"
    }
   ],
   "source": [
    "import matplotlib.pyplot as plt\n",
    "plt.plot(train_results['Predictions'][:100])\n",
    "plt.plot(train_results['Actuals'][:100])\n",
    "plt.title(\"Training Predictions vs Actual Temps\")\n",
    "plt.show()"
   ]
  },
  {
   "cell_type": "code",
   "execution_count": 17,
   "id": "6f1c0744",
   "metadata": {
    "execution": {
     "iopub.execute_input": "2023-03-03T14:39:29.018423Z",
     "iopub.status.busy": "2023-03-03T14:39:29.017726Z",
     "iopub.status.idle": "2023-03-03T14:39:30.030750Z",
     "shell.execute_reply": "2023-03-03T14:39:30.029785Z"
    },
    "papermill": {
     "duration": 1.099822,
     "end_time": "2023-03-03T14:39:30.032979",
     "exception": false,
     "start_time": "2023-03-03T14:39:28.933157",
     "status": "completed"
    },
    "tags": []
   },
   "outputs": [
    {
     "name": "stdout",
     "output_type": "stream",
     "text": [
      "157/157 [==============================] - 1s 2ms/step\n"
     ]
    },
    {
     "data": {
      "text/html": [
       "<div>\n",
       "<style scoped>\n",
       "    .dataframe tbody tr th:only-of-type {\n",
       "        vertical-align: middle;\n",
       "    }\n",
       "\n",
       "    .dataframe tbody tr th {\n",
       "        vertical-align: top;\n",
       "    }\n",
       "\n",
       "    .dataframe thead th {\n",
       "        text-align: right;\n",
       "    }\n",
       "</style>\n",
       "<table border=\"1\" class=\"dataframe\">\n",
       "  <thead>\n",
       "    <tr style=\"text-align: right;\">\n",
       "      <th></th>\n",
       "      <th>Predictions</th>\n",
       "      <th>Actuals</th>\n",
       "    </tr>\n",
       "  </thead>\n",
       "  <tbody>\n",
       "    <tr>\n",
       "      <th>0</th>\n",
       "      <td>15.580661</td>\n",
       "      <td>14.02</td>\n",
       "    </tr>\n",
       "    <tr>\n",
       "      <th>1</th>\n",
       "      <td>13.368181</td>\n",
       "      <td>13.67</td>\n",
       "    </tr>\n",
       "    <tr>\n",
       "      <th>2</th>\n",
       "      <td>13.106278</td>\n",
       "      <td>12.27</td>\n",
       "    </tr>\n",
       "    <tr>\n",
       "      <th>3</th>\n",
       "      <td>11.604152</td>\n",
       "      <td>11.19</td>\n",
       "    </tr>\n",
       "    <tr>\n",
       "      <th>4</th>\n",
       "      <td>10.487064</td>\n",
       "      <td>10.85</td>\n",
       "    </tr>\n",
       "  </tbody>\n",
       "</table>\n",
       "</div>"
      ],
      "text/plain": [
       "   Predictions  Actuals\n",
       "0    15.580661    14.02\n",
       "1    13.368181    13.67\n",
       "2    13.106278    12.27\n",
       "3    11.604152    11.19\n",
       "4    10.487064    10.85"
      ]
     },
     "execution_count": 17,
     "metadata": {},
     "output_type": "execute_result"
    }
   ],
   "source": [
    "val_predictions = model1.predict(X_val).flatten()\n",
    "val_results = pd.DataFrame({\n",
    "    \"Predictions\" : val_predictions,\n",
    "    \"Actuals\" : y_val\n",
    "})\n",
    "val_results.head()"
   ]
  },
  {
   "cell_type": "code",
   "execution_count": 18,
   "id": "f882332b",
   "metadata": {
    "execution": {
     "iopub.execute_input": "2023-03-03T14:39:30.261708Z",
     "iopub.status.busy": "2023-03-03T14:39:30.260977Z",
     "iopub.status.idle": "2023-03-03T14:39:30.468366Z",
     "shell.execute_reply": "2023-03-03T14:39:30.467276Z"
    },
    "papermill": {
     "duration": 0.350911,
     "end_time": "2023-03-03T14:39:30.470600",
     "exception": false,
     "start_time": "2023-03-03T14:39:30.119689",
     "status": "completed"
    },
    "tags": []
   },
   "outputs": [
    {
     "data": {
      "image/png": "[encoded data removed]",
      "text/plain": [
       "<Figure size 640x480 with 1 Axes>"
      ]
     },
     "metadata": {},
     "output_type": "display_data"
    }
   ],
   "source": [
    "plt.plot(val_results['Predictions'][:100])\n",
    "plt.plot(val_results['Actuals'][:100])\n",
    "plt.title(\"Validation Predictions vs Actual Temps\")\n",
    "plt.show()"
   ]
  },
  {
   "cell_type": "code",
   "execution_count": 19,
   "id": "564ce381",
   "metadata": {
    "execution": {
     "iopub.execute_input": "2023-03-03T14:39:30.642494Z",
     "iopub.status.busy": "2023-03-03T14:39:30.642095Z",
     "iopub.status.idle": "2023-03-03T14:39:31.330268Z",
     "shell.execute_reply": "2023-03-03T14:39:31.329232Z"
    },
    "papermill": {
     "duration": 0.776874,
     "end_time": "2023-03-03T14:39:31.332642",
     "exception": false,
     "start_time": "2023-03-03T14:39:30.555768",
     "status": "completed"
    },
    "tags": []
   },
   "outputs": [
    {
     "name": "stdout",
     "output_type": "stream",
     "text": [
      "159/159 [==============================] - 0s 2ms/step\n"
     ]
    },
    {
     "data": {
      "text/html": [
       "<div>\n",
       "<style scoped>\n",
       "    .dataframe tbody tr th:only-of-type {\n",
       "        vertical-align: middle;\n",
       "    }\n",
       "\n",
       "    .dataframe tbody tr th {\n",
       "        vertical-align: top;\n",
       "    }\n",
       "\n",
       "    .dataframe thead th {\n",
       "        text-align: right;\n",
       "    }\n",
       "</style>\n",
       "<table border=\"1\" class=\"dataframe\">\n",
       "  <thead>\n",
       "    <tr style=\"text-align: right;\">\n",
       "      <th></th>\n",
       "      <th>Predictions</th>\n",
       "      <th>Actuals</th>\n",
       "    </tr>\n",
       "  </thead>\n",
       "  <tbody>\n",
       "    <tr>\n",
       "      <th>0</th>\n",
       "      <td>14.481353</td>\n",
       "      <td>13.99</td>\n",
       "    </tr>\n",
       "    <tr>\n",
       "      <th>1</th>\n",
       "      <td>13.350459</td>\n",
       "      <td>13.46</td>\n",
       "    </tr>\n",
       "    <tr>\n",
       "      <th>2</th>\n",
       "      <td>12.935807</td>\n",
       "      <td>12.93</td>\n",
       "    </tr>\n",
       "    <tr>\n",
       "      <th>3</th>\n",
       "      <td>12.527375</td>\n",
       "      <td>12.43</td>\n",
       "    </tr>\n",
       "    <tr>\n",
       "      <th>4</th>\n",
       "      <td>12.080515</td>\n",
       "      <td>12.17</td>\n",
       "    </tr>\n",
       "  </tbody>\n",
       "</table>\n",
       "</div>"
      ],
      "text/plain": [
       "   Predictions  Actuals\n",
       "0    14.481353    13.99\n",
       "1    13.350459    13.46\n",
       "2    12.935807    12.93\n",
       "3    12.527375    12.43\n",
       "4    12.080515    12.17"
      ]
     },
     "execution_count": 19,
     "metadata": {},
     "output_type": "execute_result"
    }
   ],
   "source": [
    "test_predictions = model1.predict(X_test).flatten()\n",
    "test_results = pd.DataFrame({\n",
    "    \"Predictions\" : test_predictions,\n",
    "    \"Actuals\" : y_test\n",
    "})\n",
    "test_results.head()"
   ]
  },
  {
   "cell_type": "code",
   "execution_count": 20,
   "id": "692e0763",
   "metadata": {
    "execution": {
     "iopub.execute_input": "2023-03-03T14:39:31.508210Z",
     "iopub.status.busy": "2023-03-03T14:39:31.507218Z",
     "iopub.status.idle": "2023-03-03T14:39:31.703082Z",
     "shell.execute_reply": "2023-03-03T14:39:31.702138Z"
    },
    "papermill": {
     "duration": 0.284847,
     "end_time": "2023-03-03T14:39:31.705476",
     "exception": false,
     "start_time": "2023-03-03T14:39:31.420629",
     "status": "completed"
    },
    "tags": []
   },
   "outputs": [
    {
     "data": {
      "image/png": "[encoded data removed]",
      "text/plain": [
       "<Figure size 640x480 with 1 Axes>"
      ]
     },
     "metadata": {},
     "output_type": "display_data"
    }
   ],
   "source": [
    "plt.plot(test_results['Predictions'][:100])\n",
    "plt.plot(test_results['Actuals'][:100])\n",
    "plt.title(\"Test Predictions vs Actual Temps\")\n",
    "plt.show()"
   ]
  },
  {
   "cell_type": "markdown",
   "id": "a69233ac",
   "metadata": {
    "papermill": {
     "duration": 0.085113,
     "end_time": "2023-03-03T14:39:31.876451",
     "exception": false,
     "start_time": "2023-03-03T14:39:31.791338",
     "status": "completed"
    },
    "tags": []
   },
   "source": [
    "# Post-Analysis\n",
    "Overall, the model performed very well. Implimenting an LSTM neural network was an effective way to predict the temperature of the coming day based upon, in this run, the previous 5 days of temperature. \n",
    "\n",
    "I really hope you enjoyed this notebook, and as always--please reach out to me at hismith142@gmail.com if you have any questions!"
   ]
  }
 ],
 "metadata": {
  "kernelspec": {
   "display_name": "Python 3",
   "language": "python",
   "name": "python3"
  },
  "language_info": {
   "codemirror_mode": {
    "name": "ipython",
    "version": 3
   },
   "file_extension": ".py",
   "mimetype": "text/x-python",
   "name": "python",
   "nbconvert_exporter": "python",
   "pygments_lexer": "ipython3",
   "version": "3.7.12"
  },
  "papermill": {
   "default_parameters": {},
   "duration": 180.804318,
   "end_time": "2023-03-03T14:39:35.263210",
   "environment_variables": {},
   "exception": null,
   "input_path": "__notebook__.ipynb",
   "output_path": "__notebook__.ipynb",
   "parameters": {},
   "start_time": "2023-03-03T14:36:34.458892",
   "version": "2.4.0"
  }
 },
 "nbformat": 4,
 "nbformat_minor": 5
}
